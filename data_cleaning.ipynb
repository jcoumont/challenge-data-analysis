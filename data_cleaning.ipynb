{
 "cells": [
  {
   "cell_type": "markdown",
   "metadata": {},
   "source": [
    "# Challenge Data Analysis"
   ]
  },
  {
   "cell_type": "markdown",
   "metadata": {},
   "source": [
    "## Import modules"
   ]
  },
  {
   "cell_type": "code",
   "execution_count": 1,
   "metadata": {},
   "outputs": [],
   "source": [
    "import numpy as np\n",
    "import pandas as pd"
   ]
  },
  {
   "cell_type": "markdown",
   "metadata": {},
   "source": [
    "## Files used"
   ]
  },
  {
   "cell_type": "code",
   "execution_count": 2,
   "metadata": {},
   "outputs": [],
   "source": [
    "filename_in = './data/immoweb_scrapped_2.csv'\n",
    "filename_out = './data/immoweb_cleaned_2.csv'"
   ]
  },
  {
   "cell_type": "markdown",
   "metadata": {},
   "source": [
    "## Load data"
   ]
  },
  {
   "cell_type": "code",
   "execution_count": 3,
   "metadata": {},
   "outputs": [
    {
     "data": {
      "text/html": [
       "<div>\n",
       "<style scoped>\n",
       "    .dataframe tbody tr th:only-of-type {\n",
       "        vertical-align: middle;\n",
       "    }\n",
       "\n",
       "    .dataframe tbody tr th {\n",
       "        vertical-align: top;\n",
       "    }\n",
       "\n",
       "    .dataframe thead th {\n",
       "        text-align: right;\n",
       "    }\n",
       "</style>\n",
       "<table border=\"1\" class=\"dataframe\">\n",
       "  <thead>\n",
       "    <tr style=\"text-align: right;\">\n",
       "      <th></th>\n",
       "      <th>locality</th>\n",
       "      <th>type_of_property</th>\n",
       "      <th>subtype_of_property</th>\n",
       "      <th>price</th>\n",
       "      <th>type_of_sale</th>\n",
       "      <th>nr_of_rooms</th>\n",
       "      <th>area</th>\n",
       "      <th>equiped_kitchen</th>\n",
       "      <th>furnished</th>\n",
       "      <th>open_fire</th>\n",
       "      <th>terrace</th>\n",
       "      <th>terrace_area</th>\n",
       "      <th>garden</th>\n",
       "      <th>garden_area</th>\n",
       "      <th>total_land_area</th>\n",
       "      <th>nr_of_facades</th>\n",
       "      <th>swimming_pool</th>\n",
       "      <th>building_condition</th>\n",
       "    </tr>\n",
       "    <tr>\n",
       "      <th>id</th>\n",
       "      <th></th>\n",
       "      <th></th>\n",
       "      <th></th>\n",
       "      <th></th>\n",
       "      <th></th>\n",
       "      <th></th>\n",
       "      <th></th>\n",
       "      <th></th>\n",
       "      <th></th>\n",
       "      <th></th>\n",
       "      <th></th>\n",
       "      <th></th>\n",
       "      <th></th>\n",
       "      <th></th>\n",
       "      <th></th>\n",
       "      <th></th>\n",
       "      <th></th>\n",
       "      <th></th>\n",
       "    </tr>\n",
       "  </thead>\n",
       "  <tbody>\n",
       "    <tr>\n",
       "      <th>9044081</th>\n",
       "      <td>1083</td>\n",
       "      <td>APARTMENT</td>\n",
       "      <td>APARTMENT</td>\n",
       "      <td>265000.0</td>\n",
       "      <td>FOR_SALE</td>\n",
       "      <td>4.0</td>\n",
       "      <td>90.0</td>\n",
       "      <td>INSTALLED</td>\n",
       "      <td>False</td>\n",
       "      <td>False</td>\n",
       "      <td>True</td>\n",
       "      <td>13.0</td>\n",
       "      <td>NaN</td>\n",
       "      <td>NaN</td>\n",
       "      <td>NaN</td>\n",
       "      <td>4.0</td>\n",
       "      <td>NaN</td>\n",
       "      <td>AS_NEW</td>\n",
       "    </tr>\n",
       "    <tr>\n",
       "      <th>9043978</th>\n",
       "      <td>1000</td>\n",
       "      <td>APARTMENT</td>\n",
       "      <td>APARTMENT</td>\n",
       "      <td>1795000.0</td>\n",
       "      <td>FOR_SALE</td>\n",
       "      <td>4.0</td>\n",
       "      <td>650.0</td>\n",
       "      <td>USA_HYPER_EQUIPPED</td>\n",
       "      <td>False</td>\n",
       "      <td>True</td>\n",
       "      <td>True</td>\n",
       "      <td>400.0</td>\n",
       "      <td>NaN</td>\n",
       "      <td>NaN</td>\n",
       "      <td>NaN</td>\n",
       "      <td>3.0</td>\n",
       "      <td>NaN</td>\n",
       "      <td>AS_NEW</td>\n",
       "    </tr>\n",
       "    <tr>\n",
       "      <th>9044188</th>\n",
       "      <td>1050</td>\n",
       "      <td>HOUSE</td>\n",
       "      <td>MANSION</td>\n",
       "      <td>3800000.0</td>\n",
       "      <td>FOR_SALE</td>\n",
       "      <td>5.0</td>\n",
       "      <td>752.0</td>\n",
       "      <td>HYPER_EQUIPPED</td>\n",
       "      <td>False</td>\n",
       "      <td>False</td>\n",
       "      <td>True</td>\n",
       "      <td>40.0</td>\n",
       "      <td>True</td>\n",
       "      <td>NaN</td>\n",
       "      <td>340.0</td>\n",
       "      <td>2.0</td>\n",
       "      <td>NaN</td>\n",
       "      <td>JUST_RENOVATED</td>\n",
       "    </tr>\n",
       "    <tr>\n",
       "      <th>9041095</th>\n",
       "      <td>4860</td>\n",
       "      <td>HOUSE</td>\n",
       "      <td>HOUSE</td>\n",
       "      <td>320000.0</td>\n",
       "      <td>FOR_SALE</td>\n",
       "      <td>5.0</td>\n",
       "      <td>231.0</td>\n",
       "      <td>NOT_INSTALLED</td>\n",
       "      <td>False</td>\n",
       "      <td>False</td>\n",
       "      <td>True</td>\n",
       "      <td>30.0</td>\n",
       "      <td>True</td>\n",
       "      <td>1200.0</td>\n",
       "      <td>1421.0</td>\n",
       "      <td>3.0</td>\n",
       "      <td>False</td>\n",
       "      <td>AS_NEW</td>\n",
       "    </tr>\n",
       "    <tr>\n",
       "      <th>9042175</th>\n",
       "      <td>1160</td>\n",
       "      <td>APARTMENT_GROUP</td>\n",
       "      <td>APARTMENT_GROUP</td>\n",
       "      <td>NaN</td>\n",
       "      <td>FOR_SALE</td>\n",
       "      <td>NaN</td>\n",
       "      <td>NaN</td>\n",
       "      <td>NaN</td>\n",
       "      <td>NaN</td>\n",
       "      <td>False</td>\n",
       "      <td>NaN</td>\n",
       "      <td>NaN</td>\n",
       "      <td>NaN</td>\n",
       "      <td>NaN</td>\n",
       "      <td>NaN</td>\n",
       "      <td>NaN</td>\n",
       "      <td>NaN</td>\n",
       "      <td>NaN</td>\n",
       "    </tr>\n",
       "  </tbody>\n",
       "</table>\n",
       "</div>"
      ],
      "text/plain": [
       "         locality type_of_property subtype_of_property      price  \\\n",
       "id                                                                  \n",
       "9044081      1083        APARTMENT           APARTMENT   265000.0   \n",
       "9043978      1000        APARTMENT           APARTMENT  1795000.0   \n",
       "9044188      1050            HOUSE             MANSION  3800000.0   \n",
       "9041095      4860            HOUSE               HOUSE   320000.0   \n",
       "9042175      1160  APARTMENT_GROUP     APARTMENT_GROUP        NaN   \n",
       "\n",
       "        type_of_sale  nr_of_rooms   area     equiped_kitchen furnished  \\\n",
       "id                                                                       \n",
       "9044081     FOR_SALE          4.0   90.0           INSTALLED     False   \n",
       "9043978     FOR_SALE          4.0  650.0  USA_HYPER_EQUIPPED     False   \n",
       "9044188     FOR_SALE          5.0  752.0      HYPER_EQUIPPED     False   \n",
       "9041095     FOR_SALE          5.0  231.0       NOT_INSTALLED     False   \n",
       "9042175     FOR_SALE          NaN    NaN                 NaN       NaN   \n",
       "\n",
       "         open_fire terrace  terrace_area garden  garden_area  total_land_area  \\\n",
       "id                                                                              \n",
       "9044081      False    True          13.0    NaN          NaN              NaN   \n",
       "9043978       True    True         400.0    NaN          NaN              NaN   \n",
       "9044188      False    True          40.0   True          NaN            340.0   \n",
       "9041095      False    True          30.0   True       1200.0           1421.0   \n",
       "9042175      False     NaN           NaN    NaN          NaN              NaN   \n",
       "\n",
       "         nr_of_facades swimming_pool building_condition  \n",
       "id                                                       \n",
       "9044081            4.0           NaN             AS_NEW  \n",
       "9043978            3.0           NaN             AS_NEW  \n",
       "9044188            2.0           NaN     JUST_RENOVATED  \n",
       "9041095            3.0         False             AS_NEW  \n",
       "9042175            NaN           NaN                NaN  "
      ]
     },
     "execution_count": 3,
     "metadata": {},
     "output_type": "execute_result"
    }
   ],
   "source": [
    "data = pd.read_csv(filename_in, index_col=\"id\")\n",
    "data.head()"
   ]
  },
  {
   "cell_type": "markdown",
   "metadata": {},
   "source": [
    "## Initial check\n",
    "Which values are missing?"
   ]
  },
  {
   "cell_type": "code",
   "execution_count": 4,
   "metadata": {},
   "outputs": [
    {
     "name": "stdout",
     "output_type": "stream",
     "text": [
      "<class 'pandas.core.frame.DataFrame'>\n",
      "Int64Index: 53738 entries, 9044081 to 6918766\n",
      "Data columns (total 18 columns):\n",
      " #   Column               Non-Null Count  Dtype  \n",
      "---  ------               --------------  -----  \n",
      " 0   locality             53738 non-null  int64  \n",
      " 1   type_of_property     53738 non-null  object \n",
      " 2   subtype_of_property  53738 non-null  object \n",
      " 3   price                50408 non-null  float64\n",
      " 4   type_of_sale         53738 non-null  object \n",
      " 5   nr_of_rooms          50577 non-null  float64\n",
      " 6   area                 42471 non-null  float64\n",
      " 7   equiped_kitchen      33161 non-null  object \n",
      " 8   furnished            26978 non-null  object \n",
      " 9   open_fire            53738 non-null  bool   \n",
      " 10  terrace              28761 non-null  object \n",
      " 11  terrace_area         17379 non-null  float64\n",
      " 12  garden               14342 non-null  object \n",
      " 13  garden_area          8130 non-null   float64\n",
      " 14  total_land_area      28384 non-null  float64\n",
      " 15  nr_of_facades        35480 non-null  float64\n",
      " 16  swimming_pool        21580 non-null  object \n",
      " 17  building_condition   35867 non-null  object \n",
      "dtypes: bool(1), float64(7), int64(1), object(9)\n",
      "memory usage: 7.4+ MB\n"
     ]
    }
   ],
   "source": [
    "data.info()"
   ]
  },
  {
   "cell_type": "markdown",
   "metadata": {},
   "source": [
    "## Clean data"
   ]
  },
  {
   "cell_type": "markdown",
   "metadata": {},
   "source": [
    "### No duplicates"
   ]
  },
  {
   "cell_type": "code",
   "execution_count": 5,
   "metadata": {},
   "outputs": [
    {
     "data": {
      "text/plain": [
       "True"
      ]
     },
     "execution_count": 5,
     "metadata": {},
     "output_type": "execute_result"
    }
   ],
   "source": [
    "data.index.is_unique"
   ]
  },
  {
   "cell_type": "markdown",
   "metadata": {},
   "source": [
    "### No blank space"
   ]
  },
  {
   "cell_type": "code",
   "execution_count": 6,
   "metadata": {},
   "outputs": [],
   "source": [
    "# Remove leading and trailing withespaces\n",
    "def strip_str(x):\n",
    "    if type(x) is str:\n",
    "        return x.strip()\n",
    "    return x"
   ]
  },
  {
   "cell_type": "code",
   "execution_count": 7,
   "metadata": {},
   "outputs": [],
   "source": [
    "data = data.applymap(strip_str)"
   ]
  },
  {
   "cell_type": "code",
   "execution_count": 8,
   "metadata": {},
   "outputs": [
    {
     "data": {
      "text/html": [
       "<div>\n",
       "<style scoped>\n",
       "    .dataframe tbody tr th:only-of-type {\n",
       "        vertical-align: middle;\n",
       "    }\n",
       "\n",
       "    .dataframe tbody tr th {\n",
       "        vertical-align: top;\n",
       "    }\n",
       "\n",
       "    .dataframe thead th {\n",
       "        text-align: right;\n",
       "    }\n",
       "</style>\n",
       "<table border=\"1\" class=\"dataframe\">\n",
       "  <thead>\n",
       "    <tr style=\"text-align: right;\">\n",
       "      <th></th>\n",
       "      <th>locality</th>\n",
       "      <th>type_of_property</th>\n",
       "      <th>subtype_of_property</th>\n",
       "      <th>price</th>\n",
       "      <th>type_of_sale</th>\n",
       "      <th>nr_of_rooms</th>\n",
       "      <th>area</th>\n",
       "      <th>equiped_kitchen</th>\n",
       "      <th>furnished</th>\n",
       "      <th>open_fire</th>\n",
       "      <th>terrace</th>\n",
       "      <th>terrace_area</th>\n",
       "      <th>garden</th>\n",
       "      <th>garden_area</th>\n",
       "      <th>total_land_area</th>\n",
       "      <th>nr_of_facades</th>\n",
       "      <th>swimming_pool</th>\n",
       "      <th>building_condition</th>\n",
       "    </tr>\n",
       "    <tr>\n",
       "      <th>id</th>\n",
       "      <th></th>\n",
       "      <th></th>\n",
       "      <th></th>\n",
       "      <th></th>\n",
       "      <th></th>\n",
       "      <th></th>\n",
       "      <th></th>\n",
       "      <th></th>\n",
       "      <th></th>\n",
       "      <th></th>\n",
       "      <th></th>\n",
       "      <th></th>\n",
       "      <th></th>\n",
       "      <th></th>\n",
       "      <th></th>\n",
       "      <th></th>\n",
       "      <th></th>\n",
       "      <th></th>\n",
       "    </tr>\n",
       "  </thead>\n",
       "  <tbody>\n",
       "    <tr>\n",
       "      <th>9044081</th>\n",
       "      <td>1083</td>\n",
       "      <td>APARTMENT</td>\n",
       "      <td>APARTMENT</td>\n",
       "      <td>265000.0</td>\n",
       "      <td>FOR_SALE</td>\n",
       "      <td>4.0</td>\n",
       "      <td>90.0</td>\n",
       "      <td>INSTALLED</td>\n",
       "      <td>False</td>\n",
       "      <td>False</td>\n",
       "      <td>True</td>\n",
       "      <td>13.0</td>\n",
       "      <td>NaN</td>\n",
       "      <td>NaN</td>\n",
       "      <td>NaN</td>\n",
       "      <td>4.0</td>\n",
       "      <td>NaN</td>\n",
       "      <td>AS_NEW</td>\n",
       "    </tr>\n",
       "    <tr>\n",
       "      <th>9043978</th>\n",
       "      <td>1000</td>\n",
       "      <td>APARTMENT</td>\n",
       "      <td>APARTMENT</td>\n",
       "      <td>1795000.0</td>\n",
       "      <td>FOR_SALE</td>\n",
       "      <td>4.0</td>\n",
       "      <td>650.0</td>\n",
       "      <td>USA_HYPER_EQUIPPED</td>\n",
       "      <td>False</td>\n",
       "      <td>True</td>\n",
       "      <td>True</td>\n",
       "      <td>400.0</td>\n",
       "      <td>NaN</td>\n",
       "      <td>NaN</td>\n",
       "      <td>NaN</td>\n",
       "      <td>3.0</td>\n",
       "      <td>NaN</td>\n",
       "      <td>AS_NEW</td>\n",
       "    </tr>\n",
       "    <tr>\n",
       "      <th>9044188</th>\n",
       "      <td>1050</td>\n",
       "      <td>HOUSE</td>\n",
       "      <td>MANSION</td>\n",
       "      <td>3800000.0</td>\n",
       "      <td>FOR_SALE</td>\n",
       "      <td>5.0</td>\n",
       "      <td>752.0</td>\n",
       "      <td>HYPER_EQUIPPED</td>\n",
       "      <td>False</td>\n",
       "      <td>False</td>\n",
       "      <td>True</td>\n",
       "      <td>40.0</td>\n",
       "      <td>True</td>\n",
       "      <td>NaN</td>\n",
       "      <td>340.0</td>\n",
       "      <td>2.0</td>\n",
       "      <td>NaN</td>\n",
       "      <td>JUST_RENOVATED</td>\n",
       "    </tr>\n",
       "    <tr>\n",
       "      <th>9041095</th>\n",
       "      <td>4860</td>\n",
       "      <td>HOUSE</td>\n",
       "      <td>HOUSE</td>\n",
       "      <td>320000.0</td>\n",
       "      <td>FOR_SALE</td>\n",
       "      <td>5.0</td>\n",
       "      <td>231.0</td>\n",
       "      <td>NOT_INSTALLED</td>\n",
       "      <td>False</td>\n",
       "      <td>False</td>\n",
       "      <td>True</td>\n",
       "      <td>30.0</td>\n",
       "      <td>True</td>\n",
       "      <td>1200.0</td>\n",
       "      <td>1421.0</td>\n",
       "      <td>3.0</td>\n",
       "      <td>False</td>\n",
       "      <td>AS_NEW</td>\n",
       "    </tr>\n",
       "    <tr>\n",
       "      <th>9042175</th>\n",
       "      <td>1160</td>\n",
       "      <td>APARTMENT_GROUP</td>\n",
       "      <td>APARTMENT_GROUP</td>\n",
       "      <td>NaN</td>\n",
       "      <td>FOR_SALE</td>\n",
       "      <td>NaN</td>\n",
       "      <td>NaN</td>\n",
       "      <td>NaN</td>\n",
       "      <td>NaN</td>\n",
       "      <td>False</td>\n",
       "      <td>NaN</td>\n",
       "      <td>NaN</td>\n",
       "      <td>NaN</td>\n",
       "      <td>NaN</td>\n",
       "      <td>NaN</td>\n",
       "      <td>NaN</td>\n",
       "      <td>NaN</td>\n",
       "      <td>NaN</td>\n",
       "    </tr>\n",
       "  </tbody>\n",
       "</table>\n",
       "</div>"
      ],
      "text/plain": [
       "         locality type_of_property subtype_of_property      price  \\\n",
       "id                                                                  \n",
       "9044081      1083        APARTMENT           APARTMENT   265000.0   \n",
       "9043978      1000        APARTMENT           APARTMENT  1795000.0   \n",
       "9044188      1050            HOUSE             MANSION  3800000.0   \n",
       "9041095      4860            HOUSE               HOUSE   320000.0   \n",
       "9042175      1160  APARTMENT_GROUP     APARTMENT_GROUP        NaN   \n",
       "\n",
       "        type_of_sale  nr_of_rooms   area     equiped_kitchen furnished  \\\n",
       "id                                                                       \n",
       "9044081     FOR_SALE          4.0   90.0           INSTALLED     False   \n",
       "9043978     FOR_SALE          4.0  650.0  USA_HYPER_EQUIPPED     False   \n",
       "9044188     FOR_SALE          5.0  752.0      HYPER_EQUIPPED     False   \n",
       "9041095     FOR_SALE          5.0  231.0       NOT_INSTALLED     False   \n",
       "9042175     FOR_SALE          NaN    NaN                 NaN       NaN   \n",
       "\n",
       "         open_fire terrace  terrace_area garden  garden_area  total_land_area  \\\n",
       "id                                                                              \n",
       "9044081      False    True          13.0    NaN          NaN              NaN   \n",
       "9043978       True    True         400.0    NaN          NaN              NaN   \n",
       "9044188      False    True          40.0   True          NaN            340.0   \n",
       "9041095      False    True          30.0   True       1200.0           1421.0   \n",
       "9042175      False     NaN           NaN    NaN          NaN              NaN   \n",
       "\n",
       "         nr_of_facades swimming_pool building_condition  \n",
       "id                                                       \n",
       "9044081            4.0           NaN             AS_NEW  \n",
       "9043978            3.0           NaN             AS_NEW  \n",
       "9044188            2.0           NaN     JUST_RENOVATED  \n",
       "9041095            3.0         False             AS_NEW  \n",
       "9042175            NaN           NaN                NaN  "
      ]
     },
     "execution_count": 8,
     "metadata": {},
     "output_type": "execute_result"
    }
   ],
   "source": [
    "data.head()"
   ]
  },
  {
   "cell_type": "markdown",
   "metadata": {},
   "source": [
    "### No errors"
   ]
  },
  {
   "cell_type": "markdown",
   "metadata": {},
   "source": [
    "##### Price error"
   ]
  },
  {
   "cell_type": "code",
   "execution_count": 9,
   "metadata": {},
   "outputs": [],
   "source": [
    "data.loc[data['price'] == 1, 'price'] = np.nan"
   ]
  },
  {
   "cell_type": "markdown",
   "metadata": {},
   "source": [
    "##### Area error"
   ]
  },
  {
   "cell_type": "code",
   "execution_count": 10,
   "metadata": {},
   "outputs": [],
   "source": [
    "data.loc[data['area'] == 1, 'area'] = np.nan"
   ]
  },
  {
   "cell_type": "markdown",
   "metadata": {},
   "source": [
    "### No empty values"
   ]
  },
  {
   "cell_type": "markdown",
   "metadata": {},
   "source": [
    "##### Empty price\n",
    "Removing all the data without a price\n"
   ]
  },
  {
   "cell_type": "code",
   "execution_count": 11,
   "metadata": {},
   "outputs": [
    {
     "data": {
      "text/plain": [
       "3331"
      ]
     },
     "execution_count": 11,
     "metadata": {},
     "output_type": "execute_result"
    }
   ],
   "source": [
    "data[data['price'].isna()].shape[0]"
   ]
  },
  {
   "cell_type": "code",
   "execution_count": 12,
   "metadata": {},
   "outputs": [],
   "source": [
    "data = data.dropna(subset=['price'])"
   ]
  },
  {
   "cell_type": "code",
   "execution_count": 13,
   "metadata": {},
   "outputs": [
    {
     "data": {
      "text/html": [
       "<div>\n",
       "<style scoped>\n",
       "    .dataframe tbody tr th:only-of-type {\n",
       "        vertical-align: middle;\n",
       "    }\n",
       "\n",
       "    .dataframe tbody tr th {\n",
       "        vertical-align: top;\n",
       "    }\n",
       "\n",
       "    .dataframe thead th {\n",
       "        text-align: right;\n",
       "    }\n",
       "</style>\n",
       "<table border=\"1\" class=\"dataframe\">\n",
       "  <thead>\n",
       "    <tr style=\"text-align: right;\">\n",
       "      <th></th>\n",
       "      <th>locality</th>\n",
       "      <th>type_of_property</th>\n",
       "      <th>subtype_of_property</th>\n",
       "      <th>price</th>\n",
       "      <th>type_of_sale</th>\n",
       "      <th>nr_of_rooms</th>\n",
       "      <th>area</th>\n",
       "      <th>equiped_kitchen</th>\n",
       "      <th>furnished</th>\n",
       "      <th>open_fire</th>\n",
       "      <th>terrace</th>\n",
       "      <th>terrace_area</th>\n",
       "      <th>garden</th>\n",
       "      <th>garden_area</th>\n",
       "      <th>total_land_area</th>\n",
       "      <th>nr_of_facades</th>\n",
       "      <th>swimming_pool</th>\n",
       "      <th>building_condition</th>\n",
       "    </tr>\n",
       "    <tr>\n",
       "      <th>id</th>\n",
       "      <th></th>\n",
       "      <th></th>\n",
       "      <th></th>\n",
       "      <th></th>\n",
       "      <th></th>\n",
       "      <th></th>\n",
       "      <th></th>\n",
       "      <th></th>\n",
       "      <th></th>\n",
       "      <th></th>\n",
       "      <th></th>\n",
       "      <th></th>\n",
       "      <th></th>\n",
       "      <th></th>\n",
       "      <th></th>\n",
       "      <th></th>\n",
       "      <th></th>\n",
       "      <th></th>\n",
       "    </tr>\n",
       "  </thead>\n",
       "  <tbody>\n",
       "    <tr>\n",
       "      <th>9052002</th>\n",
       "      <td>1000</td>\n",
       "      <td>HOUSE</td>\n",
       "      <td>HOUSE</td>\n",
       "      <td>65.0</td>\n",
       "      <td>FOR_SALE</td>\n",
       "      <td>NaN</td>\n",
       "      <td>NaN</td>\n",
       "      <td>NaN</td>\n",
       "      <td>NaN</td>\n",
       "      <td>False</td>\n",
       "      <td>NaN</td>\n",
       "      <td>NaN</td>\n",
       "      <td>NaN</td>\n",
       "      <td>NaN</td>\n",
       "      <td>NaN</td>\n",
       "      <td>NaN</td>\n",
       "      <td>NaN</td>\n",
       "      <td>NaN</td>\n",
       "    </tr>\n",
       "  </tbody>\n",
       "</table>\n",
       "</div>"
      ],
      "text/plain": [
       "         locality type_of_property subtype_of_property  price type_of_sale  \\\n",
       "id                                                                           \n",
       "9052002      1000            HOUSE               HOUSE   65.0     FOR_SALE   \n",
       "\n",
       "         nr_of_rooms  area equiped_kitchen furnished  open_fire terrace  \\\n",
       "id                                                                        \n",
       "9052002          NaN   NaN             NaN       NaN      False     NaN   \n",
       "\n",
       "         terrace_area garden  garden_area  total_land_area  nr_of_facades  \\\n",
       "id                                                                          \n",
       "9052002           NaN    NaN          NaN              NaN            NaN   \n",
       "\n",
       "        swimming_pool building_condition  \n",
       "id                                        \n",
       "9052002           NaN                NaN  "
      ]
     },
     "execution_count": 13,
     "metadata": {},
     "output_type": "execute_result"
    }
   ],
   "source": [
    "data[data['price'] == data['price'].min()]"
   ]
  },
  {
   "cell_type": "code",
   "execution_count": 14,
   "metadata": {},
   "outputs": [
    {
     "data": {
      "text/html": [
       "<div>\n",
       "<style scoped>\n",
       "    .dataframe tbody tr th:only-of-type {\n",
       "        vertical-align: middle;\n",
       "    }\n",
       "\n",
       "    .dataframe tbody tr th {\n",
       "        vertical-align: top;\n",
       "    }\n",
       "\n",
       "    .dataframe thead th {\n",
       "        text-align: right;\n",
       "    }\n",
       "</style>\n",
       "<table border=\"1\" class=\"dataframe\">\n",
       "  <thead>\n",
       "    <tr style=\"text-align: right;\">\n",
       "      <th></th>\n",
       "      <th>locality</th>\n",
       "      <th>type_of_property</th>\n",
       "      <th>subtype_of_property</th>\n",
       "      <th>price</th>\n",
       "      <th>type_of_sale</th>\n",
       "      <th>nr_of_rooms</th>\n",
       "      <th>area</th>\n",
       "      <th>equiped_kitchen</th>\n",
       "      <th>furnished</th>\n",
       "      <th>open_fire</th>\n",
       "      <th>terrace</th>\n",
       "      <th>terrace_area</th>\n",
       "      <th>garden</th>\n",
       "      <th>garden_area</th>\n",
       "      <th>total_land_area</th>\n",
       "      <th>nr_of_facades</th>\n",
       "      <th>swimming_pool</th>\n",
       "      <th>building_condition</th>\n",
       "    </tr>\n",
       "    <tr>\n",
       "      <th>id</th>\n",
       "      <th></th>\n",
       "      <th></th>\n",
       "      <th></th>\n",
       "      <th></th>\n",
       "      <th></th>\n",
       "      <th></th>\n",
       "      <th></th>\n",
       "      <th></th>\n",
       "      <th></th>\n",
       "      <th></th>\n",
       "      <th></th>\n",
       "      <th></th>\n",
       "      <th></th>\n",
       "      <th></th>\n",
       "      <th></th>\n",
       "      <th></th>\n",
       "      <th></th>\n",
       "      <th></th>\n",
       "    </tr>\n",
       "  </thead>\n",
       "  <tbody>\n",
       "    <tr>\n",
       "      <th>8982779</th>\n",
       "      <td>7110</td>\n",
       "      <td>HOUSE</td>\n",
       "      <td>OTHER_PROPERTY</td>\n",
       "      <td>35000000.0</td>\n",
       "      <td>FOR_SALE</td>\n",
       "      <td>2.0</td>\n",
       "      <td>NaN</td>\n",
       "      <td>NaN</td>\n",
       "      <td>True</td>\n",
       "      <td>False</td>\n",
       "      <td>NaN</td>\n",
       "      <td>NaN</td>\n",
       "      <td>NaN</td>\n",
       "      <td>NaN</td>\n",
       "      <td>1.0</td>\n",
       "      <td>1.0</td>\n",
       "      <td>NaN</td>\n",
       "      <td>NaN</td>\n",
       "    </tr>\n",
       "    <tr>\n",
       "      <th>9050689</th>\n",
       "      <td>1030</td>\n",
       "      <td>APARTMENT</td>\n",
       "      <td>FLAT_STUDIO</td>\n",
       "      <td>35000000.0</td>\n",
       "      <td>FOR_SALE</td>\n",
       "      <td>1.0</td>\n",
       "      <td>42.0</td>\n",
       "      <td>SEMI_EQUIPPED</td>\n",
       "      <td>NaN</td>\n",
       "      <td>False</td>\n",
       "      <td>NaN</td>\n",
       "      <td>NaN</td>\n",
       "      <td>NaN</td>\n",
       "      <td>NaN</td>\n",
       "      <td>NaN</td>\n",
       "      <td>NaN</td>\n",
       "      <td>NaN</td>\n",
       "      <td>GOOD</td>\n",
       "    </tr>\n",
       "    <tr>\n",
       "      <th>8963683</th>\n",
       "      <td>1190</td>\n",
       "      <td>HOUSE</td>\n",
       "      <td>HOUSE</td>\n",
       "      <td>35000000.0</td>\n",
       "      <td>FOR_SALE</td>\n",
       "      <td>2.0</td>\n",
       "      <td>113.0</td>\n",
       "      <td>HYPER_EQUIPPED</td>\n",
       "      <td>False</td>\n",
       "      <td>True</td>\n",
       "      <td>NaN</td>\n",
       "      <td>NaN</td>\n",
       "      <td>True</td>\n",
       "      <td>30.0</td>\n",
       "      <td>99.0</td>\n",
       "      <td>2.0</td>\n",
       "      <td>NaN</td>\n",
       "      <td>GOOD</td>\n",
       "    </tr>\n",
       "    <tr>\n",
       "      <th>9064050</th>\n",
       "      <td>1850</td>\n",
       "      <td>APARTMENT</td>\n",
       "      <td>SERVICE_FLAT</td>\n",
       "      <td>35000000.0</td>\n",
       "      <td>FOR_SALE</td>\n",
       "      <td>0.0</td>\n",
       "      <td>NaN</td>\n",
       "      <td>NaN</td>\n",
       "      <td>NaN</td>\n",
       "      <td>False</td>\n",
       "      <td>NaN</td>\n",
       "      <td>NaN</td>\n",
       "      <td>NaN</td>\n",
       "      <td>NaN</td>\n",
       "      <td>NaN</td>\n",
       "      <td>4.0</td>\n",
       "      <td>NaN</td>\n",
       "      <td>NaN</td>\n",
       "    </tr>\n",
       "  </tbody>\n",
       "</table>\n",
       "</div>"
      ],
      "text/plain": [
       "         locality type_of_property subtype_of_property       price  \\\n",
       "id                                                                   \n",
       "8982779      7110            HOUSE      OTHER_PROPERTY  35000000.0   \n",
       "9050689      1030        APARTMENT         FLAT_STUDIO  35000000.0   \n",
       "8963683      1190            HOUSE               HOUSE  35000000.0   \n",
       "9064050      1850        APARTMENT        SERVICE_FLAT  35000000.0   \n",
       "\n",
       "        type_of_sale  nr_of_rooms   area equiped_kitchen furnished  open_fire  \\\n",
       "id                                                                              \n",
       "8982779     FOR_SALE          2.0    NaN             NaN      True      False   \n",
       "9050689     FOR_SALE          1.0   42.0   SEMI_EQUIPPED       NaN      False   \n",
       "8963683     FOR_SALE          2.0  113.0  HYPER_EQUIPPED     False       True   \n",
       "9064050     FOR_SALE          0.0    NaN             NaN       NaN      False   \n",
       "\n",
       "        terrace  terrace_area garden  garden_area  total_land_area  \\\n",
       "id                                                                   \n",
       "8982779     NaN           NaN    NaN          NaN              1.0   \n",
       "9050689     NaN           NaN    NaN          NaN              NaN   \n",
       "8963683     NaN           NaN   True         30.0             99.0   \n",
       "9064050     NaN           NaN    NaN          NaN              NaN   \n",
       "\n",
       "         nr_of_facades swimming_pool building_condition  \n",
       "id                                                       \n",
       "8982779            1.0           NaN                NaN  \n",
       "9050689            NaN           NaN               GOOD  \n",
       "8963683            2.0           NaN               GOOD  \n",
       "9064050            4.0           NaN                NaN  "
      ]
     },
     "execution_count": 14,
     "metadata": {},
     "output_type": "execute_result"
    }
   ],
   "source": [
    "data[data['price'] == data['price'].max()]"
   ]
  },
  {
   "cell_type": "markdown",
   "metadata": {},
   "source": [
    "##### Empty nb rooms"
   ]
  },
  {
   "cell_type": "code",
   "execution_count": 15,
   "metadata": {},
   "outputs": [],
   "source": [
    "data = data.dropna(subset=['nr_of_rooms'])"
   ]
  },
  {
   "cell_type": "markdown",
   "metadata": {},
   "source": [
    "##### Equiped kitchen"
   ]
  },
  {
   "cell_type": "code",
   "execution_count": 16,
   "metadata": {},
   "outputs": [],
   "source": [
    "data['equiped_kitchen'] = data['equiped_kitchen'].replace(np.nan, 'UNK')"
   ]
  },
  {
   "cell_type": "markdown",
   "metadata": {},
   "source": [
    "##### Area\n",
    "Try to determinate the area on basis of :\n",
    "- total land area\n",
    "- garden area\n",
    "\n",
    "If not possible to determinate it, -1"
   ]
  },
  {
   "cell_type": "code",
   "execution_count": 17,
   "metadata": {},
   "outputs": [],
   "source": [
    "def compute_area(x):\n",
    "    # np.nan != np.nan\n",
    "    if x['area'] != x['area'] or x['area'] == -1:\n",
    "        if x['total_land_area'] > x['garden_area']:\n",
    "            garden_area = x['garden_area'] if x['garden_area'] > 0 else 0\n",
    "            return x['total_land_area'] - garden_area\n",
    "        else:\n",
    "            return -1\n",
    "    else:\n",
    "        return x['area']"
   ]
  },
  {
   "cell_type": "code",
   "execution_count": 18,
   "metadata": {},
   "outputs": [],
   "source": [
    "data['area'] = data.apply(compute_area, axis= 1)"
   ]
  },
  {
   "cell_type": "code",
   "execution_count": 19,
   "metadata": {},
   "outputs": [
    {
     "data": {
      "text/plain": [
       "-1.0      7850\n",
       " 100.0     870\n",
       " 90.0      842\n",
       " 120.0     815\n",
       " 150.0     753\n",
       "          ... \n",
       " 976.0       1\n",
       " 937.0       1\n",
       " 722.0       1\n",
       " 748.0       1\n",
       " 803.0       1\n",
       "Name: area, Length: 833, dtype: int64"
      ]
     },
     "execution_count": 19,
     "metadata": {},
     "output_type": "execute_result"
    }
   ],
   "source": [
    "data['area'].value_counts()"
   ]
  },
  {
   "cell_type": "markdown",
   "metadata": {},
   "source": [
    "##### Furnished"
   ]
  },
  {
   "cell_type": "code",
   "execution_count": 20,
   "metadata": {},
   "outputs": [],
   "source": [
    "data['furnished'] = data['furnished'].fillna(False)"
   ]
  },
  {
   "cell_type": "code",
   "execution_count": 21,
   "metadata": {},
   "outputs": [
    {
     "data": {
      "text/plain": [
       "False    48831\n",
       "True      1573\n",
       "Name: furnished, dtype: int64"
      ]
     },
     "execution_count": 21,
     "metadata": {},
     "output_type": "execute_result"
    }
   ],
   "source": [
    "data['furnished'].value_counts()"
   ]
  },
  {
   "cell_type": "markdown",
   "metadata": {},
   "source": [
    "##### Terrace\n"
   ]
  },
  {
   "cell_type": "code",
   "execution_count": 22,
   "metadata": {},
   "outputs": [],
   "source": [
    "data['terrace'] = data['terrace'].fillna(False)"
   ]
  },
  {
   "cell_type": "code",
   "execution_count": 23,
   "metadata": {},
   "outputs": [
    {
     "data": {
      "text/plain": [
       "True     28677\n",
       "False    21727\n",
       "Name: terrace, dtype: int64"
      ]
     },
     "execution_count": 23,
     "metadata": {},
     "output_type": "execute_result"
    }
   ],
   "source": [
    "data['terrace'].value_counts()"
   ]
  },
  {
   "cell_type": "markdown",
   "metadata": {},
   "source": [
    "##### Terrace area"
   ]
  },
  {
   "cell_type": "code",
   "execution_count": 24,
   "metadata": {},
   "outputs": [],
   "source": [
    "data['terrace_area'] = data['terrace_area'].fillna(-1)"
   ]
  },
  {
   "cell_type": "code",
   "execution_count": 25,
   "metadata": {},
   "outputs": [
    {
     "data": {
      "text/plain": [
       "-1.0       33053\n",
       " 10.0       1033\n",
       " 20.0       1005\n",
       " 15.0        806\n",
       " 6.0         782\n",
       "           ...  \n",
       " 261.0         1\n",
       " 126.0         1\n",
       " 248.0         1\n",
       " 3500.0        1\n",
       " 2000.0        1\n",
       "Name: terrace_area, Length: 214, dtype: int64"
      ]
     },
     "execution_count": 25,
     "metadata": {},
     "output_type": "execute_result"
    }
   ],
   "source": [
    "data['terrace_area'].value_counts()"
   ]
  },
  {
   "cell_type": "markdown",
   "metadata": {},
   "source": [
    "##### Garden\n",
    "Try to determinate the presence on basis of :\n",
    "\n",
    "- total land area\n",
    "- terrace_area\n",
    "- area"
   ]
  },
  {
   "cell_type": "code",
   "execution_count": 26,
   "metadata": {},
   "outputs": [],
   "source": [
    "# Function that will replace the NaN garden value \n",
    "# by a boolean (True/False)\n",
    "# True if total_land_area > (area + terrace_area)\n",
    "# otherwise False\n",
    "def garden_nan_to_bool_value(x):\n",
    "    # Only if value is NaN\n",
    "    if x[\"garden\"] != x[\"garden\"]:\n",
    "        area = x[\"area\"] if x[\"area\"] > 0 else 0\n",
    "        terrace_area = x[\"terrace_area\"] if x[\"terrace_area\"] > 0 else 0\n",
    "        return x[\"total_land_area\"] > area + terrace_area\n",
    "    return x[\"garden\"]"
   ]
  },
  {
   "cell_type": "code",
   "execution_count": 27,
   "metadata": {},
   "outputs": [],
   "source": [
    "data[\"garden\"] = data.apply(garden_nan_to_bool_value, axis=1)"
   ]
  },
  {
   "cell_type": "code",
   "execution_count": 28,
   "metadata": {},
   "outputs": [
    {
     "data": {
      "text/plain": [
       "True     25398\n",
       "False    25006\n",
       "Name: garden, dtype: int64"
      ]
     },
     "execution_count": 28,
     "metadata": {},
     "output_type": "execute_result"
    }
   ],
   "source": [
    "data['garden'].value_counts()"
   ]
  },
  {
   "cell_type": "markdown",
   "metadata": {},
   "source": [
    "##### Total land area\n",
    "Try to determinate the garden area on basis of :\n",
    "\n",
    "- terrace_area\n",
    "- area\n",
    "\n",
    "If not possible to determinate it, -1"
   ]
  },
  {
   "cell_type": "code",
   "execution_count": 29,
   "metadata": {},
   "outputs": [
    {
     "data": {
      "text/plain": [
       "0.0        3507\n",
       "150.0       213\n",
       "100.0       211\n",
       "200.0       174\n",
       "1000.0      172\n",
       "           ... \n",
       "3520.0        1\n",
       "4494.0        1\n",
       "23487.0       1\n",
       "15641.0       1\n",
       "3794.0        1\n",
       "Name: total_land_area, Length: 3387, dtype: int64"
      ]
     },
     "execution_count": 29,
     "metadata": {},
     "output_type": "execute_result"
    }
   ],
   "source": [
    "data['total_land_area'].value_counts()"
   ]
  },
  {
   "cell_type": "code",
   "execution_count": 30,
   "metadata": {},
   "outputs": [],
   "source": [
    "def total_land_area_nan_to_value(x):\n",
    "    # Only if value is NaN\n",
    "    if (x[\"total_land_area\"] != x[\"total_land_area\"] or \n",
    "        x[\"total_land_area\"] < x[\"garden_area\"] + x[\"terrace_area\"] or\n",
    "        x[\"total_land_area\"] == 0) :\n",
    "        area = x[\"area\"] if x[\"area\"] > 0 else 0\n",
    "        terrace_area = x[\"terrace_area\"] if x[\"terrace_area\"] > 0 else 0\n",
    "        garden_area = x[\"garden_area\"] if x[\"garden_area\"] > 0 else 0\n",
    "        return area + terrace_area + garden_area\n",
    "    return x[\"total_land_area\"]"
   ]
  },
  {
   "cell_type": "code",
   "execution_count": 31,
   "metadata": {},
   "outputs": [],
   "source": [
    "data[\"total_land_area\"] = data.apply(total_land_area_nan_to_value, axis=1)"
   ]
  },
  {
   "cell_type": "markdown",
   "metadata": {},
   "source": [
    "##### Garden area\n",
    "Try to determinate the garden area on basis of :\n",
    "\n",
    "- total land area\n",
    "- terrace_area\n",
    "- area\n",
    "\n",
    "If not possible to determinate it, -1"
   ]
  },
  {
   "cell_type": "code",
   "execution_count": 32,
   "metadata": {},
   "outputs": [],
   "source": [
    "# Function that will replace the NaN garden_are value \n",
    "# by a int\n",
    "# if total_land_area > (area + terrace_area)\n",
    "# otherwise 0\n",
    "def garden_area_nan_to_value(x):\n",
    "    # Only if value is NaN\n",
    "    if x[\"garden_area\"] != x[\"garden_area\"]:\n",
    "        area = x[\"area\"] if x[\"area\"] > 0 else 0\n",
    "        terrace_area = x[\"terrace_area\"] if x[\"terrace_area\"] > 0 else 0\n",
    "        \n",
    "        if x[\"total_land_area\"] >= area + terrace_area:\n",
    "            return x[\"total_land_area\"] - area - terrace_area\n",
    "        else:\n",
    "            return -1\n",
    "    return x[\"garden_area\"]"
   ]
  },
  {
   "cell_type": "code",
   "execution_count": 33,
   "metadata": {},
   "outputs": [],
   "source": [
    "data[\"garden_area\"] = data.apply(garden_area_nan_to_value, axis=1)"
   ]
  },
  {
   "cell_type": "code",
   "execution_count": 34,
   "metadata": {},
   "outputs": [
    {
     "data": {
      "text/plain": [
       " 0.0        23965\n",
       "-1.0         3134\n",
       " 100.0        332\n",
       " 50.0         262\n",
       " 200.0        239\n",
       "            ...  \n",
       " 1806.0         1\n",
       " 2632.0         1\n",
       " 2257.0         1\n",
       " 68710.0        1\n",
       " 11783.0        1\n",
       "Name: garden_area, Length: 3339, dtype: int64"
      ]
     },
     "execution_count": 34,
     "metadata": {},
     "output_type": "execute_result"
    }
   ],
   "source": [
    "data['garden_area'].value_counts()"
   ]
  },
  {
   "cell_type": "markdown",
   "metadata": {},
   "source": [
    "##### Swimming pool"
   ]
  },
  {
   "cell_type": "code",
   "execution_count": 35,
   "metadata": {},
   "outputs": [],
   "source": [
    "data['swimming_pool'] = data['swimming_pool'].fillna(False)"
   ]
  },
  {
   "cell_type": "markdown",
   "metadata": {},
   "source": [
    "##### Number of facades"
   ]
  },
  {
   "cell_type": "code",
   "execution_count": 36,
   "metadata": {},
   "outputs": [],
   "source": [
    "data['nr_of_facades'] = data['nr_of_facades'].fillna(-1)"
   ]
  },
  {
   "cell_type": "markdown",
   "metadata": {},
   "source": [
    "##### Building condition"
   ]
  },
  {
   "cell_type": "code",
   "execution_count": 37,
   "metadata": {},
   "outputs": [],
   "source": [
    "data['building_condition'] = data['building_condition'].fillna('UKN')"
   ]
  },
  {
   "cell_type": "markdown",
   "metadata": {},
   "source": [
    "### Added values"
   ]
  },
  {
   "cell_type": "markdown",
   "metadata": {},
   "source": [
    "##### Kitchen"
   ]
  },
  {
   "cell_type": "code",
   "execution_count": 38,
   "metadata": {},
   "outputs": [],
   "source": [
    "#create a new column with condition over 'equiped_kitchen' column\n",
    "l = ['UNK','NOT_INSTALLED', 'USA_UNINSTALLED']\n",
    "\n",
    "data['kitchen'] = np.where(data['equiped_kitchen'].isin(l), True, False )"
   ]
  },
  {
   "cell_type": "code",
   "execution_count": 39,
   "metadata": {},
   "outputs": [
    {
     "data": {
      "text/plain": [
       "False    31086\n",
       "True     19318\n",
       "Name: kitchen, dtype: int64"
      ]
     },
     "execution_count": 39,
     "metadata": {},
     "output_type": "execute_result"
    }
   ],
   "source": [
    "data['kitchen'].value_counts()"
   ]
  },
  {
   "cell_type": "code",
   "execution_count": 40,
   "metadata": {},
   "outputs": [
    {
     "data": {
      "text/plain": [
       "INSTALLED             17677\n",
       "UNK                   17377\n",
       "HYPER_EQUIPPED         6688\n",
       "SEMI_EQUIPPED          3506\n",
       "USA_HYPER_EQUIPPED     2136\n",
       "NOT_INSTALLED          1914\n",
       "USA_INSTALLED           882\n",
       "USA_SEMI_EQUIPPED       197\n",
       "USA_UNINSTALLED          27\n",
       "Name: equiped_kitchen, dtype: int64"
      ]
     },
     "execution_count": 40,
     "metadata": {},
     "output_type": "execute_result"
    }
   ],
   "source": [
    "data['equiped_kitchen'].value_counts()"
   ]
  },
  {
   "cell_type": "markdown",
   "metadata": {},
   "source": [
    "##### Region and Province"
   ]
  },
  {
   "cell_type": "code",
   "execution_count": 41,
   "metadata": {},
   "outputs": [],
   "source": [
    "# Function that will determine the Region\n",
    "# based on the Locality ZipCode\n",
    "# \n",
    "#1000–1299 -> BXL\n",
    "#1300–1499 -> WAL\n",
    "#1500–3999 -> VLA\n",
    "#4000–4999 -> WAL\n",
    "#5000–7999 -> WAL\n",
    "#8000–9999 -> VLA\n",
    "def get_region_on_zip_code(x):\n",
    "    # Only if value is NaN\n",
    "    if (1000 <= x <= 1299):\n",
    "        return \"BXL\"\n",
    "    elif (1300 <= x <= 1499) or (4000 <= x <= 7999):\n",
    "        return \"WAL\"\n",
    "    else:\n",
    "        return \"VLA\""
   ]
  },
  {
   "cell_type": "code",
   "execution_count": 42,
   "metadata": {},
   "outputs": [],
   "source": [
    "data[\"region\"] = data.locality.apply(get_region_on_zip_code)"
   ]
  },
  {
   "cell_type": "code",
   "execution_count": 43,
   "metadata": {},
   "outputs": [
    {
     "data": {
      "text/plain": [
       "VLA    31488\n",
       "WAL    13325\n",
       "BXL     5591\n",
       "Name: region, dtype: int64"
      ]
     },
     "execution_count": 43,
     "metadata": {},
     "output_type": "execute_result"
    }
   ],
   "source": [
    "data[\"region\"].value_counts()"
   ]
  },
  {
   "cell_type": "code",
   "execution_count": 44,
   "metadata": {},
   "outputs": [],
   "source": [
    "# function to recognize the province based on the postal code\n",
    "def province(x):\n",
    "    prov = []\n",
    "    for i in x[\"locality\"]:\n",
    "        if 2000 <= i <= 2999:  # Antwerp\n",
    "            prov.append(\"VAN\")\n",
    "        if 3500 <= i <= 3999:  # Limburg\n",
    "            prov.append(\"VLI\")\n",
    "        if 4000 <= i <= 4999:  # Liège\n",
    "            prov.append(\"WLG\")\n",
    "        if 1300 <= i <= 1499:  # Brabant Wallon\n",
    "            prov.append(\"WBR\")\n",
    "        if 5000 <= i <= 5999:  # Namur\n",
    "            prov.append(\"WNA\") \n",
    "        if 6600 <= i <= 6999:  # Luxembourg\n",
    "            prov.append(\"WLX\")            \n",
    "        if 1000 <= i <= 1299:  # Brussels\n",
    "            prov.append(\"BXL\")\n",
    "        if (1500 <= i <= 1999) | (3000 <= i <= 3499):  # Brabant Flamand\n",
    "            prov.append(\"VBR\")\n",
    "        if (6000 <= i <= 6599) | (7000 <= i <= 7999):  # Hainaut\n",
    "            prov.append(\"WHT\")            \n",
    "        if 8000 <= i <= 8999:  # Flander Occidentale\n",
    "            prov.append(\"VWV\") \n",
    "        if 9000 <= i <= 9999:  # Flander Orientale\n",
    "            prov.append(\"VOV\")\n",
    "    return prov"
   ]
  },
  {
   "cell_type": "code",
   "execution_count": 45,
   "metadata": {},
   "outputs": [],
   "source": [
    "data[\"province\"] = province(data)"
   ]
  },
  {
   "cell_type": "code",
   "execution_count": 46,
   "metadata": {},
   "outputs": [
    {
     "data": {
      "text/plain": [
       "VWV    9298\n",
       "VAN    7512\n",
       "VOV    7510\n",
       "WHT    6294\n",
       "BXL    5591\n",
       "VBR    4971\n",
       "VLI    2197\n",
       "WNA    2087\n",
       "WBR    1812\n",
       "WLG    1628\n",
       "WLX    1504\n",
       "Name: province, dtype: int64"
      ]
     },
     "execution_count": 46,
     "metadata": {},
     "output_type": "execute_result"
    }
   ],
   "source": [
    "data[\"province\"].value_counts()"
   ]
  },
  {
   "cell_type": "markdown",
   "metadata": {},
   "source": [
    "##### Price meter price\n",
    "On the build area and the total land area"
   ]
  },
  {
   "cell_type": "code",
   "execution_count": 47,
   "metadata": {},
   "outputs": [],
   "source": [
    "# Price / Area \n",
    "def price_sq_meter(x):\n",
    "    if x[\"area\"] > 0:\n",
    "        return x[\"price\"]/x[\"area\"]\n",
    "    return -1"
   ]
  },
  {
   "cell_type": "code",
   "execution_count": 48,
   "metadata": {},
   "outputs": [],
   "source": [
    "data[\"sq_m_price\"] = data.apply(price_sq_meter, axis=1)"
   ]
  },
  {
   "cell_type": "code",
   "execution_count": 49,
   "metadata": {},
   "outputs": [
    {
     "data": {
      "text/plain": [
       "-1.000000        7850\n",
       " 2500.000000      264\n",
       " 3000.000000      181\n",
       " 2000.000000      153\n",
       " 1666.666667      117\n",
       "                 ... \n",
       " 847.639485         1\n",
       " 1402.366864        1\n",
       " 2109.929078        1\n",
       " 14272.727273       1\n",
       " 3213.333333        1\n",
       "Name: sq_m_price, Length: 18482, dtype: int64"
      ]
     },
     "execution_count": 49,
     "metadata": {},
     "output_type": "execute_result"
    }
   ],
   "source": [
    "data[\"sq_m_price\"].value_counts()"
   ]
  },
  {
   "cell_type": "code",
   "execution_count": 50,
   "metadata": {},
   "outputs": [],
   "source": [
    "# Price / Total land area\n",
    "def price_sq_meter_land(x):\n",
    "    if x[\"total_land_area\"] > 0:\n",
    "        return x[\"price\"]/x[\"total_land_area\"]\n",
    "    return -1"
   ]
  },
  {
   "cell_type": "code",
   "execution_count": 51,
   "metadata": {},
   "outputs": [],
   "source": [
    "data[\"sq_m_land_price\"] = data.apply(price_sq_meter_land, axis=1)"
   ]
  },
  {
   "cell_type": "code",
   "execution_count": 52,
   "metadata": {},
   "outputs": [
    {
     "data": {
      "text/plain": [
       "-1.000000       3051\n",
       " 2500.000000     167\n",
       " 3000.000000     111\n",
       " 2000.000000      83\n",
       " 1500.000000      71\n",
       "                ... \n",
       " 1795.000000       1\n",
       " 1039.039039       1\n",
       " 4119.834711       1\n",
       " 864.168618        1\n",
       " 1150.662252       1\n",
       "Name: sq_m_land_price, Length: 28175, dtype: int64"
      ]
     },
     "execution_count": 52,
     "metadata": {},
     "output_type": "execute_result"
    }
   ],
   "source": [
    "data[\"sq_m_land_price\"].value_counts()"
   ]
  },
  {
   "cell_type": "markdown",
   "metadata": {},
   "source": [
    "## Conversion\n"
   ]
  },
  {
   "cell_type": "markdown",
   "metadata": {},
   "source": [
    "##### bool -> 0/1"
   ]
  },
  {
   "cell_type": "code",
   "execution_count": 53,
   "metadata": {},
   "outputs": [],
   "source": [
    "def bool_to_int(x):\n",
    "    if type(x) is bool:\n",
    "        if x:\n",
    "            return 1\n",
    "        else:\n",
    "            return 0\n",
    "    return x"
   ]
  },
  {
   "cell_type": "code",
   "execution_count": 54,
   "metadata": {},
   "outputs": [],
   "source": [
    "data = data.applymap(bool_to_int)"
   ]
  },
  {
   "cell_type": "code",
   "execution_count": 55,
   "metadata": {},
   "outputs": [
    {
     "data": {
      "text/html": [
       "<div>\n",
       "<style scoped>\n",
       "    .dataframe tbody tr th:only-of-type {\n",
       "        vertical-align: middle;\n",
       "    }\n",
       "\n",
       "    .dataframe tbody tr th {\n",
       "        vertical-align: top;\n",
       "    }\n",
       "\n",
       "    .dataframe thead th {\n",
       "        text-align: right;\n",
       "    }\n",
       "</style>\n",
       "<table border=\"1\" class=\"dataframe\">\n",
       "  <thead>\n",
       "    <tr style=\"text-align: right;\">\n",
       "      <th></th>\n",
       "      <th>locality</th>\n",
       "      <th>type_of_property</th>\n",
       "      <th>subtype_of_property</th>\n",
       "      <th>price</th>\n",
       "      <th>type_of_sale</th>\n",
       "      <th>nr_of_rooms</th>\n",
       "      <th>area</th>\n",
       "      <th>equiped_kitchen</th>\n",
       "      <th>furnished</th>\n",
       "      <th>open_fire</th>\n",
       "      <th>...</th>\n",
       "      <th>garden_area</th>\n",
       "      <th>total_land_area</th>\n",
       "      <th>nr_of_facades</th>\n",
       "      <th>swimming_pool</th>\n",
       "      <th>building_condition</th>\n",
       "      <th>kitchen</th>\n",
       "      <th>region</th>\n",
       "      <th>province</th>\n",
       "      <th>sq_m_price</th>\n",
       "      <th>sq_m_land_price</th>\n",
       "    </tr>\n",
       "    <tr>\n",
       "      <th>id</th>\n",
       "      <th></th>\n",
       "      <th></th>\n",
       "      <th></th>\n",
       "      <th></th>\n",
       "      <th></th>\n",
       "      <th></th>\n",
       "      <th></th>\n",
       "      <th></th>\n",
       "      <th></th>\n",
       "      <th></th>\n",
       "      <th></th>\n",
       "      <th></th>\n",
       "      <th></th>\n",
       "      <th></th>\n",
       "      <th></th>\n",
       "      <th></th>\n",
       "      <th></th>\n",
       "      <th></th>\n",
       "      <th></th>\n",
       "      <th></th>\n",
       "      <th></th>\n",
       "    </tr>\n",
       "  </thead>\n",
       "  <tbody>\n",
       "    <tr>\n",
       "      <th>9044081</th>\n",
       "      <td>1083</td>\n",
       "      <td>APARTMENT</td>\n",
       "      <td>APARTMENT</td>\n",
       "      <td>265000.0</td>\n",
       "      <td>FOR_SALE</td>\n",
       "      <td>4.0</td>\n",
       "      <td>90.0</td>\n",
       "      <td>INSTALLED</td>\n",
       "      <td>0</td>\n",
       "      <td>0</td>\n",
       "      <td>...</td>\n",
       "      <td>0.0</td>\n",
       "      <td>103.0</td>\n",
       "      <td>4.0</td>\n",
       "      <td>0</td>\n",
       "      <td>AS_NEW</td>\n",
       "      <td>0</td>\n",
       "      <td>BXL</td>\n",
       "      <td>BXL</td>\n",
       "      <td>2944.444444</td>\n",
       "      <td>2572.815534</td>\n",
       "    </tr>\n",
       "    <tr>\n",
       "      <th>9043978</th>\n",
       "      <td>1000</td>\n",
       "      <td>APARTMENT</td>\n",
       "      <td>APARTMENT</td>\n",
       "      <td>1795000.0</td>\n",
       "      <td>FOR_SALE</td>\n",
       "      <td>4.0</td>\n",
       "      <td>650.0</td>\n",
       "      <td>USA_HYPER_EQUIPPED</td>\n",
       "      <td>0</td>\n",
       "      <td>1</td>\n",
       "      <td>...</td>\n",
       "      <td>0.0</td>\n",
       "      <td>1050.0</td>\n",
       "      <td>3.0</td>\n",
       "      <td>0</td>\n",
       "      <td>AS_NEW</td>\n",
       "      <td>0</td>\n",
       "      <td>BXL</td>\n",
       "      <td>BXL</td>\n",
       "      <td>2761.538462</td>\n",
       "      <td>1709.523810</td>\n",
       "    </tr>\n",
       "    <tr>\n",
       "      <th>9044188</th>\n",
       "      <td>1050</td>\n",
       "      <td>HOUSE</td>\n",
       "      <td>MANSION</td>\n",
       "      <td>3800000.0</td>\n",
       "      <td>FOR_SALE</td>\n",
       "      <td>5.0</td>\n",
       "      <td>752.0</td>\n",
       "      <td>HYPER_EQUIPPED</td>\n",
       "      <td>0</td>\n",
       "      <td>0</td>\n",
       "      <td>...</td>\n",
       "      <td>-1.0</td>\n",
       "      <td>340.0</td>\n",
       "      <td>2.0</td>\n",
       "      <td>0</td>\n",
       "      <td>JUST_RENOVATED</td>\n",
       "      <td>0</td>\n",
       "      <td>BXL</td>\n",
       "      <td>BXL</td>\n",
       "      <td>5053.191489</td>\n",
       "      <td>11176.470588</td>\n",
       "    </tr>\n",
       "    <tr>\n",
       "      <th>9041095</th>\n",
       "      <td>4860</td>\n",
       "      <td>HOUSE</td>\n",
       "      <td>HOUSE</td>\n",
       "      <td>320000.0</td>\n",
       "      <td>FOR_SALE</td>\n",
       "      <td>5.0</td>\n",
       "      <td>231.0</td>\n",
       "      <td>NOT_INSTALLED</td>\n",
       "      <td>0</td>\n",
       "      <td>0</td>\n",
       "      <td>...</td>\n",
       "      <td>1200.0</td>\n",
       "      <td>1421.0</td>\n",
       "      <td>3.0</td>\n",
       "      <td>0</td>\n",
       "      <td>AS_NEW</td>\n",
       "      <td>1</td>\n",
       "      <td>WAL</td>\n",
       "      <td>WLG</td>\n",
       "      <td>1385.281385</td>\n",
       "      <td>225.193526</td>\n",
       "    </tr>\n",
       "    <tr>\n",
       "      <th>9043036</th>\n",
       "      <td>9600</td>\n",
       "      <td>APARTMENT</td>\n",
       "      <td>APARTMENT</td>\n",
       "      <td>195000.0</td>\n",
       "      <td>FOR_SALE</td>\n",
       "      <td>2.0</td>\n",
       "      <td>75.0</td>\n",
       "      <td>INSTALLED</td>\n",
       "      <td>0</td>\n",
       "      <td>0</td>\n",
       "      <td>...</td>\n",
       "      <td>0.0</td>\n",
       "      <td>75.0</td>\n",
       "      <td>2.0</td>\n",
       "      <td>0</td>\n",
       "      <td>GOOD</td>\n",
       "      <td>0</td>\n",
       "      <td>VLA</td>\n",
       "      <td>VOV</td>\n",
       "      <td>2600.000000</td>\n",
       "      <td>2600.000000</td>\n",
       "    </tr>\n",
       "  </tbody>\n",
       "</table>\n",
       "<p>5 rows × 23 columns</p>\n",
       "</div>"
      ],
      "text/plain": [
       "         locality type_of_property subtype_of_property      price  \\\n",
       "id                                                                  \n",
       "9044081      1083        APARTMENT           APARTMENT   265000.0   \n",
       "9043978      1000        APARTMENT           APARTMENT  1795000.0   \n",
       "9044188      1050            HOUSE             MANSION  3800000.0   \n",
       "9041095      4860            HOUSE               HOUSE   320000.0   \n",
       "9043036      9600        APARTMENT           APARTMENT   195000.0   \n",
       "\n",
       "        type_of_sale  nr_of_rooms   area     equiped_kitchen  furnished  \\\n",
       "id                                                                        \n",
       "9044081     FOR_SALE          4.0   90.0           INSTALLED          0   \n",
       "9043978     FOR_SALE          4.0  650.0  USA_HYPER_EQUIPPED          0   \n",
       "9044188     FOR_SALE          5.0  752.0      HYPER_EQUIPPED          0   \n",
       "9041095     FOR_SALE          5.0  231.0       NOT_INSTALLED          0   \n",
       "9043036     FOR_SALE          2.0   75.0           INSTALLED          0   \n",
       "\n",
       "         open_fire  ...  garden_area  total_land_area  nr_of_facades  \\\n",
       "id                  ...                                                \n",
       "9044081          0  ...          0.0            103.0            4.0   \n",
       "9043978          1  ...          0.0           1050.0            3.0   \n",
       "9044188          0  ...         -1.0            340.0            2.0   \n",
       "9041095          0  ...       1200.0           1421.0            3.0   \n",
       "9043036          0  ...          0.0             75.0            2.0   \n",
       "\n",
       "         swimming_pool  building_condition  kitchen  region province  \\\n",
       "id                                                                     \n",
       "9044081              0              AS_NEW        0     BXL      BXL   \n",
       "9043978              0              AS_NEW        0     BXL      BXL   \n",
       "9044188              0      JUST_RENOVATED        0     BXL      BXL   \n",
       "9041095              0              AS_NEW        1     WAL      WLG   \n",
       "9043036              0                GOOD        0     VLA      VOV   \n",
       "\n",
       "          sq_m_price sq_m_land_price  \n",
       "id                                    \n",
       "9044081  2944.444444     2572.815534  \n",
       "9043978  2761.538462     1709.523810  \n",
       "9044188  5053.191489    11176.470588  \n",
       "9041095  1385.281385      225.193526  \n",
       "9043036  2600.000000     2600.000000  \n",
       "\n",
       "[5 rows x 23 columns]"
      ]
     },
     "execution_count": 55,
     "metadata": {},
     "output_type": "execute_result"
    }
   ],
   "source": [
    "data.head()"
   ]
  },
  {
   "cell_type": "markdown",
   "metadata": {},
   "source": [
    "##### Round float to 2 decimal"
   ]
  },
  {
   "cell_type": "code",
   "execution_count": 56,
   "metadata": {},
   "outputs": [],
   "source": [
    "def float_round_2_decimal(x):\n",
    "    if type(x) is float:\n",
    "        return round(x, 2)\n",
    "    return x"
   ]
  },
  {
   "cell_type": "code",
   "execution_count": 57,
   "metadata": {},
   "outputs": [],
   "source": [
    "data = data.applymap(float_round_2_decimal)"
   ]
  },
  {
   "cell_type": "markdown",
   "metadata": {},
   "source": [
    "##### Convert text dictionary to numeric\n",
    "Allows us to have correlation on it"
   ]
  },
  {
   "cell_type": "code",
   "execution_count": 58,
   "metadata": {},
   "outputs": [],
   "source": [
    "dic_type_of_property = {\n",
    "        \"APARTMENT\": 1,\n",
    "        \"HOUSE\":     2\n",
    "    }\n",
    "\n",
    "data[\"type_of_property_num\"] = data[\"type_of_property\"].apply(lambda x: dic_type_of_property.get(x))"
   ]
  },
  {
   "cell_type": "code",
   "execution_count": 59,
   "metadata": {},
   "outputs": [],
   "source": [
    "dic_subtype_of_property = {\n",
    "        \"APARTMENT\":1,\n",
    "        \"MANSION\":2,\n",
    "        \"HOUSE\":3,\n",
    "        \"TRIPLEX\":4,\n",
    "        \"VILLA\":5,\n",
    "        \"FLAT_STUDIO\":6,\n",
    "        \"EXCEPTIONAL_PROPERTY\":7,\n",
    "        \"LOFT\":8,\n",
    "        \"DUPLEX\":9,\n",
    "        \"SERVICE_FLAT\":10,\n",
    "        \"TOWN_HOUSE\":11,\n",
    "        \"FARMHOUSE\":12,\n",
    "        \"PENTHOUSE\":13,\n",
    "        \"BUNGALOW\":14,\n",
    "        \"APARTMENT_BLOCK\":15,\n",
    "        \"COUNTRY_COTTAGE\":15,\n",
    "        \"MIXED_USE_BUILDING\":17,\n",
    "        \"GROUND_FLOOR\":17,\n",
    "        \"OTHER_PROPERTY\":19,\n",
    "        \"MANOR_HOUSE\":20,\n",
    "        \"CHALET\":21,\n",
    "        \"KOT\":22,\n",
    "        \"CASTLE\":23\n",
    "    }\n",
    "data[\"subtype_of_property_num\"] = data[\"subtype_of_property\"].apply(lambda x: dic_subtype_of_property.get(x))"
   ]
  },
  {
   "cell_type": "code",
   "execution_count": 60,
   "metadata": {},
   "outputs": [],
   "source": [
    "dic_type_of_sale = {\"FOR_SALE\": 1}\n",
    "data[\"type_of_sale_num\"] = data[\"type_of_sale\"].apply(lambda x: dic_type_of_sale.get(x))"
   ]
  },
  {
   "cell_type": "code",
   "execution_count": 61,
   "metadata": {},
   "outputs": [],
   "source": [
    "dic_equiped_kitchen = {\n",
    "        \"INSTALLED\": 1,\n",
    "        \"USA_HYPER_EQUIPPED\": 2,\n",
    "        \"HYPER_EQUIPPED\": 3,\n",
    "        \"NOT_INSTALLED\": 4,\n",
    "        \"SEMI_EQUIPPED\": 5,\n",
    "        \"USA_INSTALLED\": 6,\n",
    "        \"USA_SEMI_EQUIPPED\": 7,\n",
    "        \"UNK\": -1,\n",
    "        \"USA_UNINSTALLED\": 8\n",
    "    }\n",
    "data[\"equiped_kitchen_num\"] = data[\"equiped_kitchen\"].apply(lambda x: dic_equiped_kitchen.get(x))"
   ]
  },
  {
   "cell_type": "code",
   "execution_count": 62,
   "metadata": {},
   "outputs": [],
   "source": [
    "dic_building_condition = {\n",
    "        \"AS_NEW\": 1,\n",
    "        \"JUST_RENOVATED\": 2,\n",
    "        \"GOOD\": 3,\n",
    "        \"TO_BE_DONE_UP\": 4,\n",
    "        \"TO_RENOVATE\": 5,\n",
    "        \"UKN\": -1,\n",
    "        \"TO_RESTORE\": 6\n",
    "    }\n",
    "data[\"building_condition_num\"] = data[\"building_condition\"].apply(lambda x: dic_building_condition.get(x))"
   ]
  },
  {
   "cell_type": "code",
   "execution_count": 63,
   "metadata": {},
   "outputs": [],
   "source": [
    "dic_region = {\n",
    "        \"BXL\": 0,\n",
    "        \"VLA\": 1,\n",
    "        \"WAL\": 2\n",
    "    }\n",
    "data[\"region_num\"] = data[\"region\"].apply(lambda x: dic_region.get(x))"
   ]
  },
  {
   "cell_type": "code",
   "execution_count": 64,
   "metadata": {},
   "outputs": [],
   "source": [
    "dic_province = {\n",
    "        \"BXL\": 1,\n",
    "        \"VAN\": 2,\n",
    "        \"VBR\": 3,\n",
    "        \"VLI\": 4,\n",
    "        \"VOV\": 5,\n",
    "        \"VWV\": 6,\n",
    "        \"WBR\": 7,\n",
    "        \"WHT\": 8,\n",
    "        \"WLG\": 9,\n",
    "        \"WLX\": 10,\n",
    "        \"WNA\": 11\n",
    "    }\n",
    "data[\"province_num\"] = data[\"province\"].apply(lambda x: dic_province.get(x))"
   ]
  },
  {
   "cell_type": "markdown",
   "metadata": {},
   "source": [
    "## Fix dtype"
   ]
  },
  {
   "cell_type": "code",
   "execution_count": 65,
   "metadata": {},
   "outputs": [
    {
     "data": {
      "text/plain": [
       "locality                     int64\n",
       "type_of_property            object\n",
       "subtype_of_property         object\n",
       "price                      float64\n",
       "type_of_sale                object\n",
       "nr_of_rooms                float64\n",
       "area                       float64\n",
       "equiped_kitchen             object\n",
       "furnished                    int64\n",
       "open_fire                    int64\n",
       "terrace                      int64\n",
       "terrace_area               float64\n",
       "garden                       int64\n",
       "garden_area                float64\n",
       "total_land_area            float64\n",
       "nr_of_facades              float64\n",
       "swimming_pool                int64\n",
       "building_condition          object\n",
       "kitchen                      int64\n",
       "region                      object\n",
       "province                    object\n",
       "sq_m_price                 float64\n",
       "sq_m_land_price            float64\n",
       "type_of_property_num         int64\n",
       "subtype_of_property_num      int64\n",
       "type_of_sale_num             int64\n",
       "equiped_kitchen_num          int64\n",
       "building_condition_num       int64\n",
       "region_num                   int64\n",
       "province_num                 int64\n",
       "dtype: object"
      ]
     },
     "execution_count": 65,
     "metadata": {},
     "output_type": "execute_result"
    }
   ],
   "source": [
    "data.dtypes"
   ]
  },
  {
   "cell_type": "code",
   "execution_count": 66,
   "metadata": {},
   "outputs": [],
   "source": [
    "convert_dict = {'price': int,\n",
    "                'nr_of_rooms': int,\n",
    "                'area': int,\n",
    "                'furnished': int,\n",
    "                'terrace_area': int,\n",
    "                'garden_area': int, \n",
    "                'nr_of_facades': int,\n",
    "                'total_land_area': int \n",
    "               } \n",
    "  \n",
    "data = data.astype(convert_dict)"
   ]
  },
  {
   "cell_type": "code",
   "execution_count": 67,
   "metadata": {},
   "outputs": [
    {
     "data": {
      "text/plain": [
       "locality                     int64\n",
       "type_of_property            object\n",
       "subtype_of_property         object\n",
       "price                        int64\n",
       "type_of_sale                object\n",
       "nr_of_rooms                  int64\n",
       "area                         int64\n",
       "equiped_kitchen             object\n",
       "furnished                    int64\n",
       "open_fire                    int64\n",
       "terrace                      int64\n",
       "terrace_area                 int64\n",
       "garden                       int64\n",
       "garden_area                  int64\n",
       "total_land_area              int64\n",
       "nr_of_facades                int64\n",
       "swimming_pool                int64\n",
       "building_condition          object\n",
       "kitchen                      int64\n",
       "region                      object\n",
       "province                    object\n",
       "sq_m_price                 float64\n",
       "sq_m_land_price            float64\n",
       "type_of_property_num         int64\n",
       "subtype_of_property_num      int64\n",
       "type_of_sale_num             int64\n",
       "equiped_kitchen_num          int64\n",
       "building_condition_num       int64\n",
       "region_num                   int64\n",
       "province_num                 int64\n",
       "dtype: object"
      ]
     },
     "execution_count": 67,
     "metadata": {},
     "output_type": "execute_result"
    }
   ],
   "source": [
    "data.dtypes"
   ]
  },
  {
   "cell_type": "code",
   "execution_count": 68,
   "metadata": {},
   "outputs": [
    {
     "data": {
      "text/plain": [
       "(50404, 30)"
      ]
     },
     "execution_count": 68,
     "metadata": {},
     "output_type": "execute_result"
    }
   ],
   "source": [
    "data.shape"
   ]
  },
  {
   "cell_type": "code",
   "execution_count": 69,
   "metadata": {
    "scrolled": true
   },
   "outputs": [
    {
     "data": {
      "text/html": [
       "<div>\n",
       "<style scoped>\n",
       "    .dataframe tbody tr th:only-of-type {\n",
       "        vertical-align: middle;\n",
       "    }\n",
       "\n",
       "    .dataframe tbody tr th {\n",
       "        vertical-align: top;\n",
       "    }\n",
       "\n",
       "    .dataframe thead th {\n",
       "        text-align: right;\n",
       "    }\n",
       "</style>\n",
       "<table border=\"1\" class=\"dataframe\">\n",
       "  <thead>\n",
       "    <tr style=\"text-align: right;\">\n",
       "      <th></th>\n",
       "      <th>locality</th>\n",
       "      <th>type_of_property</th>\n",
       "      <th>subtype_of_property</th>\n",
       "      <th>price</th>\n",
       "      <th>type_of_sale</th>\n",
       "      <th>nr_of_rooms</th>\n",
       "      <th>area</th>\n",
       "      <th>equiped_kitchen</th>\n",
       "      <th>furnished</th>\n",
       "      <th>open_fire</th>\n",
       "      <th>...</th>\n",
       "      <th>province</th>\n",
       "      <th>sq_m_price</th>\n",
       "      <th>sq_m_land_price</th>\n",
       "      <th>type_of_property_num</th>\n",
       "      <th>subtype_of_property_num</th>\n",
       "      <th>type_of_sale_num</th>\n",
       "      <th>equiped_kitchen_num</th>\n",
       "      <th>building_condition_num</th>\n",
       "      <th>region_num</th>\n",
       "      <th>province_num</th>\n",
       "    </tr>\n",
       "    <tr>\n",
       "      <th>id</th>\n",
       "      <th></th>\n",
       "      <th></th>\n",
       "      <th></th>\n",
       "      <th></th>\n",
       "      <th></th>\n",
       "      <th></th>\n",
       "      <th></th>\n",
       "      <th></th>\n",
       "      <th></th>\n",
       "      <th></th>\n",
       "      <th></th>\n",
       "      <th></th>\n",
       "      <th></th>\n",
       "      <th></th>\n",
       "      <th></th>\n",
       "      <th></th>\n",
       "      <th></th>\n",
       "      <th></th>\n",
       "      <th></th>\n",
       "      <th></th>\n",
       "      <th></th>\n",
       "    </tr>\n",
       "  </thead>\n",
       "  <tbody>\n",
       "    <tr>\n",
       "      <th>9044081</th>\n",
       "      <td>1083</td>\n",
       "      <td>APARTMENT</td>\n",
       "      <td>APARTMENT</td>\n",
       "      <td>265000</td>\n",
       "      <td>FOR_SALE</td>\n",
       "      <td>4</td>\n",
       "      <td>90</td>\n",
       "      <td>INSTALLED</td>\n",
       "      <td>0</td>\n",
       "      <td>0</td>\n",
       "      <td>...</td>\n",
       "      <td>BXL</td>\n",
       "      <td>2944.44</td>\n",
       "      <td>2572.82</td>\n",
       "      <td>1</td>\n",
       "      <td>1</td>\n",
       "      <td>1</td>\n",
       "      <td>1</td>\n",
       "      <td>1</td>\n",
       "      <td>0</td>\n",
       "      <td>1</td>\n",
       "    </tr>\n",
       "    <tr>\n",
       "      <th>9043978</th>\n",
       "      <td>1000</td>\n",
       "      <td>APARTMENT</td>\n",
       "      <td>APARTMENT</td>\n",
       "      <td>1795000</td>\n",
       "      <td>FOR_SALE</td>\n",
       "      <td>4</td>\n",
       "      <td>650</td>\n",
       "      <td>USA_HYPER_EQUIPPED</td>\n",
       "      <td>0</td>\n",
       "      <td>1</td>\n",
       "      <td>...</td>\n",
       "      <td>BXL</td>\n",
       "      <td>2761.54</td>\n",
       "      <td>1709.52</td>\n",
       "      <td>1</td>\n",
       "      <td>1</td>\n",
       "      <td>1</td>\n",
       "      <td>2</td>\n",
       "      <td>1</td>\n",
       "      <td>0</td>\n",
       "      <td>1</td>\n",
       "    </tr>\n",
       "    <tr>\n",
       "      <th>9044188</th>\n",
       "      <td>1050</td>\n",
       "      <td>HOUSE</td>\n",
       "      <td>MANSION</td>\n",
       "      <td>3800000</td>\n",
       "      <td>FOR_SALE</td>\n",
       "      <td>5</td>\n",
       "      <td>752</td>\n",
       "      <td>HYPER_EQUIPPED</td>\n",
       "      <td>0</td>\n",
       "      <td>0</td>\n",
       "      <td>...</td>\n",
       "      <td>BXL</td>\n",
       "      <td>5053.19</td>\n",
       "      <td>11176.47</td>\n",
       "      <td>2</td>\n",
       "      <td>2</td>\n",
       "      <td>1</td>\n",
       "      <td>3</td>\n",
       "      <td>2</td>\n",
       "      <td>0</td>\n",
       "      <td>1</td>\n",
       "    </tr>\n",
       "    <tr>\n",
       "      <th>9041095</th>\n",
       "      <td>4860</td>\n",
       "      <td>HOUSE</td>\n",
       "      <td>HOUSE</td>\n",
       "      <td>320000</td>\n",
       "      <td>FOR_SALE</td>\n",
       "      <td>5</td>\n",
       "      <td>231</td>\n",
       "      <td>NOT_INSTALLED</td>\n",
       "      <td>0</td>\n",
       "      <td>0</td>\n",
       "      <td>...</td>\n",
       "      <td>WLG</td>\n",
       "      <td>1385.28</td>\n",
       "      <td>225.19</td>\n",
       "      <td>2</td>\n",
       "      <td>3</td>\n",
       "      <td>1</td>\n",
       "      <td>4</td>\n",
       "      <td>1</td>\n",
       "      <td>2</td>\n",
       "      <td>9</td>\n",
       "    </tr>\n",
       "    <tr>\n",
       "      <th>9043036</th>\n",
       "      <td>9600</td>\n",
       "      <td>APARTMENT</td>\n",
       "      <td>APARTMENT</td>\n",
       "      <td>195000</td>\n",
       "      <td>FOR_SALE</td>\n",
       "      <td>2</td>\n",
       "      <td>75</td>\n",
       "      <td>INSTALLED</td>\n",
       "      <td>0</td>\n",
       "      <td>0</td>\n",
       "      <td>...</td>\n",
       "      <td>VOV</td>\n",
       "      <td>2600.00</td>\n",
       "      <td>2600.00</td>\n",
       "      <td>1</td>\n",
       "      <td>1</td>\n",
       "      <td>1</td>\n",
       "      <td>1</td>\n",
       "      <td>3</td>\n",
       "      <td>1</td>\n",
       "      <td>5</td>\n",
       "    </tr>\n",
       "    <tr>\n",
       "      <th>...</th>\n",
       "      <td>...</td>\n",
       "      <td>...</td>\n",
       "      <td>...</td>\n",
       "      <td>...</td>\n",
       "      <td>...</td>\n",
       "      <td>...</td>\n",
       "      <td>...</td>\n",
       "      <td>...</td>\n",
       "      <td>...</td>\n",
       "      <td>...</td>\n",
       "      <td>...</td>\n",
       "      <td>...</td>\n",
       "      <td>...</td>\n",
       "      <td>...</td>\n",
       "      <td>...</td>\n",
       "      <td>...</td>\n",
       "      <td>...</td>\n",
       "      <td>...</td>\n",
       "      <td>...</td>\n",
       "      <td>...</td>\n",
       "      <td>...</td>\n",
       "    </tr>\n",
       "    <tr>\n",
       "      <th>9043293</th>\n",
       "      <td>8020</td>\n",
       "      <td>HOUSE</td>\n",
       "      <td>HOUSE</td>\n",
       "      <td>495000</td>\n",
       "      <td>FOR_SALE</td>\n",
       "      <td>3</td>\n",
       "      <td>217</td>\n",
       "      <td>HYPER_EQUIPPED</td>\n",
       "      <td>0</td>\n",
       "      <td>1</td>\n",
       "      <td>...</td>\n",
       "      <td>VWV</td>\n",
       "      <td>2281.11</td>\n",
       "      <td>473.68</td>\n",
       "      <td>2</td>\n",
       "      <td>3</td>\n",
       "      <td>1</td>\n",
       "      <td>3</td>\n",
       "      <td>1</td>\n",
       "      <td>1</td>\n",
       "      <td>6</td>\n",
       "    </tr>\n",
       "    <tr>\n",
       "      <th>9007296</th>\n",
       "      <td>5060</td>\n",
       "      <td>APARTMENT</td>\n",
       "      <td>DUPLEX</td>\n",
       "      <td>318000</td>\n",
       "      <td>FOR_SALE</td>\n",
       "      <td>3</td>\n",
       "      <td>118</td>\n",
       "      <td>HYPER_EQUIPPED</td>\n",
       "      <td>0</td>\n",
       "      <td>0</td>\n",
       "      <td>...</td>\n",
       "      <td>WNA</td>\n",
       "      <td>2694.92</td>\n",
       "      <td>2271.43</td>\n",
       "      <td>1</td>\n",
       "      <td>9</td>\n",
       "      <td>1</td>\n",
       "      <td>3</td>\n",
       "      <td>3</td>\n",
       "      <td>2</td>\n",
       "      <td>11</td>\n",
       "    </tr>\n",
       "    <tr>\n",
       "      <th>9029109</th>\n",
       "      <td>4140</td>\n",
       "      <td>HOUSE</td>\n",
       "      <td>BUNGALOW</td>\n",
       "      <td>349000</td>\n",
       "      <td>FOR_SALE</td>\n",
       "      <td>3</td>\n",
       "      <td>180</td>\n",
       "      <td>SEMI_EQUIPPED</td>\n",
       "      <td>0</td>\n",
       "      <td>0</td>\n",
       "      <td>...</td>\n",
       "      <td>WLG</td>\n",
       "      <td>1938.89</td>\n",
       "      <td>208.48</td>\n",
       "      <td>2</td>\n",
       "      <td>14</td>\n",
       "      <td>1</td>\n",
       "      <td>5</td>\n",
       "      <td>1</td>\n",
       "      <td>2</td>\n",
       "      <td>9</td>\n",
       "    </tr>\n",
       "    <tr>\n",
       "      <th>9029927</th>\n",
       "      <td>5580</td>\n",
       "      <td>HOUSE</td>\n",
       "      <td>HOUSE</td>\n",
       "      <td>599000</td>\n",
       "      <td>FOR_SALE</td>\n",
       "      <td>4</td>\n",
       "      <td>320</td>\n",
       "      <td>INSTALLED</td>\n",
       "      <td>0</td>\n",
       "      <td>1</td>\n",
       "      <td>...</td>\n",
       "      <td>WNA</td>\n",
       "      <td>1871.88</td>\n",
       "      <td>127.58</td>\n",
       "      <td>2</td>\n",
       "      <td>3</td>\n",
       "      <td>1</td>\n",
       "      <td>1</td>\n",
       "      <td>1</td>\n",
       "      <td>2</td>\n",
       "      <td>11</td>\n",
       "    </tr>\n",
       "    <tr>\n",
       "      <th>9029376</th>\n",
       "      <td>1050</td>\n",
       "      <td>HOUSE</td>\n",
       "      <td>MIXED_USE_BUILDING</td>\n",
       "      <td>985000</td>\n",
       "      <td>FOR_SALE</td>\n",
       "      <td>3</td>\n",
       "      <td>340</td>\n",
       "      <td>NOT_INSTALLED</td>\n",
       "      <td>0</td>\n",
       "      <td>0</td>\n",
       "      <td>...</td>\n",
       "      <td>BXL</td>\n",
       "      <td>2897.06</td>\n",
       "      <td>4690.48</td>\n",
       "      <td>2</td>\n",
       "      <td>17</td>\n",
       "      <td>1</td>\n",
       "      <td>4</td>\n",
       "      <td>3</td>\n",
       "      <td>0</td>\n",
       "      <td>1</td>\n",
       "    </tr>\n",
       "  </tbody>\n",
       "</table>\n",
       "<p>100 rows × 30 columns</p>\n",
       "</div>"
      ],
      "text/plain": [
       "         locality type_of_property subtype_of_property    price type_of_sale  \\\n",
       "id                                                                             \n",
       "9044081      1083        APARTMENT           APARTMENT   265000     FOR_SALE   \n",
       "9043978      1000        APARTMENT           APARTMENT  1795000     FOR_SALE   \n",
       "9044188      1050            HOUSE             MANSION  3800000     FOR_SALE   \n",
       "9041095      4860            HOUSE               HOUSE   320000     FOR_SALE   \n",
       "9043036      9600        APARTMENT           APARTMENT   195000     FOR_SALE   \n",
       "...           ...              ...                 ...      ...          ...   \n",
       "9043293      8020            HOUSE               HOUSE   495000     FOR_SALE   \n",
       "9007296      5060        APARTMENT              DUPLEX   318000     FOR_SALE   \n",
       "9029109      4140            HOUSE            BUNGALOW   349000     FOR_SALE   \n",
       "9029927      5580            HOUSE               HOUSE   599000     FOR_SALE   \n",
       "9029376      1050            HOUSE  MIXED_USE_BUILDING   985000     FOR_SALE   \n",
       "\n",
       "         nr_of_rooms  area     equiped_kitchen  furnished  open_fire  ...  \\\n",
       "id                                                                    ...   \n",
       "9044081            4    90           INSTALLED          0          0  ...   \n",
       "9043978            4   650  USA_HYPER_EQUIPPED          0          1  ...   \n",
       "9044188            5   752      HYPER_EQUIPPED          0          0  ...   \n",
       "9041095            5   231       NOT_INSTALLED          0          0  ...   \n",
       "9043036            2    75           INSTALLED          0          0  ...   \n",
       "...              ...   ...                 ...        ...        ...  ...   \n",
       "9043293            3   217      HYPER_EQUIPPED          0          1  ...   \n",
       "9007296            3   118      HYPER_EQUIPPED          0          0  ...   \n",
       "9029109            3   180       SEMI_EQUIPPED          0          0  ...   \n",
       "9029927            4   320           INSTALLED          0          1  ...   \n",
       "9029376            3   340       NOT_INSTALLED          0          0  ...   \n",
       "\n",
       "         province  sq_m_price  sq_m_land_price  type_of_property_num  \\\n",
       "id                                                                     \n",
       "9044081       BXL     2944.44          2572.82                     1   \n",
       "9043978       BXL     2761.54          1709.52                     1   \n",
       "9044188       BXL     5053.19         11176.47                     2   \n",
       "9041095       WLG     1385.28           225.19                     2   \n",
       "9043036       VOV     2600.00          2600.00                     1   \n",
       "...           ...         ...              ...                   ...   \n",
       "9043293       VWV     2281.11           473.68                     2   \n",
       "9007296       WNA     2694.92          2271.43                     1   \n",
       "9029109       WLG     1938.89           208.48                     2   \n",
       "9029927       WNA     1871.88           127.58                     2   \n",
       "9029376       BXL     2897.06          4690.48                     2   \n",
       "\n",
       "         subtype_of_property_num  type_of_sale_num  equiped_kitchen_num  \\\n",
       "id                                                                        \n",
       "9044081                        1                 1                    1   \n",
       "9043978                        1                 1                    2   \n",
       "9044188                        2                 1                    3   \n",
       "9041095                        3                 1                    4   \n",
       "9043036                        1                 1                    1   \n",
       "...                          ...               ...                  ...   \n",
       "9043293                        3                 1                    3   \n",
       "9007296                        9                 1                    3   \n",
       "9029109                       14                 1                    5   \n",
       "9029927                        3                 1                    1   \n",
       "9029376                       17                 1                    4   \n",
       "\n",
       "        building_condition_num  region_num province_num  \n",
       "id                                                       \n",
       "9044081                      1           0            1  \n",
       "9043978                      1           0            1  \n",
       "9044188                      2           0            1  \n",
       "9041095                      1           2            9  \n",
       "9043036                      3           1            5  \n",
       "...                        ...         ...          ...  \n",
       "9043293                      1           1            6  \n",
       "9007296                      3           2           11  \n",
       "9029109                      1           2            9  \n",
       "9029927                      1           2           11  \n",
       "9029376                      3           0            1  \n",
       "\n",
       "[100 rows x 30 columns]"
      ]
     },
     "execution_count": 69,
     "metadata": {},
     "output_type": "execute_result"
    }
   ],
   "source": [
    "data.head(100)"
   ]
  },
  {
   "cell_type": "markdown",
   "metadata": {},
   "source": [
    "### Delete unrelevant rows"
   ]
  },
  {
   "cell_type": "markdown",
   "metadata": {},
   "source": [
    "##### Area unknown\n",
    "Area must be > 0"
   ]
  },
  {
   "cell_type": "code",
   "execution_count": 70,
   "metadata": {},
   "outputs": [],
   "source": [
    "data = data[data[\"area\"] > 0]"
   ]
  },
  {
   "cell_type": "markdown",
   "metadata": {},
   "source": [
    "##### Apartement block\n",
    "They are whole building and not just a real estate property "
   ]
  },
  {
   "cell_type": "code",
   "execution_count": 71,
   "metadata": {},
   "outputs": [],
   "source": [
    "data = data[data[\"subtype_of_property\"] != 15]"
   ]
  },
  {
   "cell_type": "markdown",
   "metadata": {},
   "source": [
    "##### Price / SqM unknown\n",
    "Price / Square Meter must be > 0"
   ]
  },
  {
   "cell_type": "code",
   "execution_count": 72,
   "metadata": {},
   "outputs": [],
   "source": [
    "data = data[data[\"sq_m_price\"] > 0]"
   ]
  },
  {
   "cell_type": "markdown",
   "metadata": {},
   "source": [
    "##### Price /SqM_land > Price / SqM_area "
   ]
  },
  {
   "cell_type": "code",
   "execution_count": 73,
   "metadata": {},
   "outputs": [
    {
     "data": {
      "text/plain": [
       "(3972, 30)"
      ]
     },
     "execution_count": 73,
     "metadata": {},
     "output_type": "execute_result"
    }
   ],
   "source": [
    "data[data[\"sq_m_land_price\"] > data[\"sq_m_price\"]].shape"
   ]
  },
  {
   "cell_type": "code",
   "execution_count": 74,
   "metadata": {},
   "outputs": [],
   "source": [
    "data = data[data[\"sq_m_land_price\"] <= data[\"sq_m_price\"]]"
   ]
  },
  {
   "cell_type": "markdown",
   "metadata": {},
   "source": [
    "### Delete unrelevant columns"
   ]
  },
  {
   "cell_type": "markdown",
   "metadata": {},
   "source": [
    "##### Type of sale\n",
    "Always FOR_SALE"
   ]
  },
  {
   "cell_type": "code",
   "execution_count": 75,
   "metadata": {},
   "outputs": [],
   "source": [
    "data.drop([\"type_of_sale\"], axis=1, inplace=True)"
   ]
  },
  {
   "cell_type": "markdown",
   "metadata": {},
   "source": [
    "##### Furnished"
   ]
  },
  {
   "cell_type": "code",
   "execution_count": 76,
   "metadata": {},
   "outputs": [],
   "source": [
    "data.drop([\"furnished\"], axis=1, inplace=True)"
   ]
  },
  {
   "cell_type": "markdown",
   "metadata": {},
   "source": [
    "### Final data check"
   ]
  },
  {
   "cell_type": "code",
   "execution_count": 77,
   "metadata": {},
   "outputs": [
    {
     "name": "stdout",
     "output_type": "stream",
     "text": [
      "<class 'pandas.core.frame.DataFrame'>\n",
      "Int64Index: 38582 entries, 9044081 to 8858590\n",
      "Data columns (total 28 columns):\n",
      " #   Column                   Non-Null Count  Dtype  \n",
      "---  ------                   --------------  -----  \n",
      " 0   locality                 38582 non-null  int64  \n",
      " 1   type_of_property         38582 non-null  object \n",
      " 2   subtype_of_property      38582 non-null  object \n",
      " 3   price                    38582 non-null  int64  \n",
      " 4   nr_of_rooms              38582 non-null  int64  \n",
      " 5   area                     38582 non-null  int64  \n",
      " 6   equiped_kitchen          38582 non-null  object \n",
      " 7   open_fire                38582 non-null  int64  \n",
      " 8   terrace                  38582 non-null  int64  \n",
      " 9   terrace_area             38582 non-null  int64  \n",
      " 10  garden                   38582 non-null  int64  \n",
      " 11  garden_area              38582 non-null  int64  \n",
      " 12  total_land_area          38582 non-null  int64  \n",
      " 13  nr_of_facades            38582 non-null  int64  \n",
      " 14  swimming_pool            38582 non-null  int64  \n",
      " 15  building_condition       38582 non-null  object \n",
      " 16  kitchen                  38582 non-null  int64  \n",
      " 17  region                   38582 non-null  object \n",
      " 18  province                 38582 non-null  object \n",
      " 19  sq_m_price               38582 non-null  float64\n",
      " 20  sq_m_land_price          38582 non-null  float64\n",
      " 21  type_of_property_num     38582 non-null  int64  \n",
      " 22  subtype_of_property_num  38582 non-null  int64  \n",
      " 23  type_of_sale_num         38582 non-null  int64  \n",
      " 24  equiped_kitchen_num      38582 non-null  int64  \n",
      " 25  building_condition_num   38582 non-null  int64  \n",
      " 26  region_num               38582 non-null  int64  \n",
      " 27  province_num             38582 non-null  int64  \n",
      "dtypes: float64(2), int64(20), object(6)\n",
      "memory usage: 8.5+ MB\n"
     ]
    }
   ],
   "source": [
    "data.info()"
   ]
  },
  {
   "cell_type": "markdown",
   "metadata": {},
   "source": [
    "### Save data cleaned"
   ]
  },
  {
   "cell_type": "code",
   "execution_count": 78,
   "metadata": {},
   "outputs": [],
   "source": [
    "data.to_csv(filename_out)"
   ]
  }
 ],
 "metadata": {
  "kernelspec": {
   "display_name": "Python 3",
   "language": "python",
   "name": "python3"
  },
  "language_info": {
   "codemirror_mode": {
    "name": "ipython",
    "version": 3
   },
   "file_extension": ".py",
   "mimetype": "text/x-python",
   "name": "python",
   "nbconvert_exporter": "python",
   "pygments_lexer": "ipython3",
   "version": "3.8.3"
  }
 },
 "nbformat": 4,
 "nbformat_minor": 4
}
